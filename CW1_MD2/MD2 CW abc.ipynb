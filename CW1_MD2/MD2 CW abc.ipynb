{
 "cells": [
  {
   "cell_type": "markdown",
   "id": "b2a1d8f0",
   "metadata": {},
   "source": [
    "# MSc Data Science and Artificial Intelligence\n",
    "# DSM070 Blockchain Programming Coursework\n",
    "# MD2 Cryptographic Hash Function\n",
    "# ('abc' Input)"
   ]
  },
  {
   "cell_type": "markdown",
   "id": "9e3c8951",
   "metadata": {},
   "source": [
    "## Program: 50% - Essay: 50%"
   ]
  },
  {
   "cell_type": "markdown",
   "id": "f6a57263",
   "metadata": {},
   "source": [
    "## Step 1: Set-up Before Padding"
   ]
  },
  {
   "cell_type": "code",
   "execution_count": 1,
   "id": "f2f0497b",
   "metadata": {},
   "outputs": [],
   "source": [
    "# set the substitution table\n",
    "S = [41, 46, 67, 201, 162, 216, 124, 1, 61, 54, 84, 161, 236, 240, 6, 19,\n",
    "     98, 167, 5, 243, 192, 199, 115, 140, 152, 147, 43, 217, 188, 76, 130, 202,\n",
    "     30, 155, 87, 60, 253, 212, 224, 22, 103, 66, 111, 24, 138, 23, 229, 18,\n",
    "     190, 78, 196, 214, 218, 158, 222, 73, 160, 251, 245, 142, 187, 47, 238, 122,\n",
    "     169, 104, 121, 145, 21, 178, 7, 63, 148, 194, 16, 137, 11, 34, 95, 33,\n",
    "     128, 127, 93, 154, 90, 144, 50, 39, 53, 62, 204, 231, 191, 247, 151, 3,\n",
    "     255, 25, 48, 179, 72, 165, 181, 209, 215, 94, 146, 42, 172, 86, 170, 198,\n",
    "     79, 184, 56, 210, 150, 164, 125, 182, 118, 252, 107, 226, 156, 116, 4, 241,\n",
    "     69, 157, 112, 89, 100, 113, 135, 32, 134, 91, 207, 101, 230, 45, 168, 2,\n",
    "     27, 96, 37, 173, 174, 176, 185, 246, 28, 70, 97, 105, 52, 64, 126, 15,\n",
    "     85, 71, 163, 35, 221, 81, 175, 58, 195, 92, 249, 206, 186, 197, 234, 38,\n",
    "     44, 83, 13, 110, 133, 40, 132, 9, 211, 223, 205, 244, 65, 129, 77, 82,\n",
    "     106, 220, 55, 200, 108, 193, 171, 250, 36, 225, 123, 8, 12, 189, 177, 74,\n",
    "     120, 136, 149, 139, 227, 99, 232, 109, 233, 203, 213, 254, 59, 0, 29, 57,\n",
    "     242, 239, 183, 14, 102, 88, 208, 228, 166, 119, 114, 248, 235, 117, 75, 10,\n",
    "     49, 68, 80, 180, 143, 237, 31, 26, 219, 153, 141, 51, 159, 17, 131, 20]"
   ]
  },
  {
   "cell_type": "code",
   "execution_count": 2,
   "id": "f039c644",
   "metadata": {},
   "outputs": [],
   "source": [
    "# set the input to abc\n",
    "msg = \"abc\"\n",
    "block_size = 16\n",
    "\n",
    "# convert the string to byte list\n",
    "msg_bytes = list(str.encode(msg))"
   ]
  },
  {
   "cell_type": "markdown",
   "id": "0bde6c60",
   "metadata": {},
   "source": [
    "## Step 2: Append Padding Bytes\n",
    "\n",
    "> Padding was used to get a full block size to the encrypted data"
   ]
  },
  {
   "cell_type": "code",
   "execution_count": 3,
   "id": "10122ebd",
   "metadata": {},
   "outputs": [],
   "source": [
    "# append i bytes of the vlaue i, so here for abc 13 bytes will be appended with values 13\n",
    "if len(msg_bytes) % 16 == 0:\n",
    "    missing_bytes = 16 \n",
    "else:\n",
    "    missing_bytes = 16-(len(msg_bytes) % 16)\n",
    "while True:\n",
    "    msg_bytes.append(missing_bytes)\n",
    "    if len(msg_bytes) % 16 == 0:\n",
    "        break    "
   ]
  },
  {
   "cell_type": "code",
   "execution_count": 4,
   "id": "26e9061c",
   "metadata": {},
   "outputs": [],
   "source": [
    "# set the block numbers which was used when iterating through more than 1 block\n",
    "block_no = int(len(msg_bytes) / block_size)"
   ]
  },
  {
   "cell_type": "code",
   "execution_count": 5,
   "id": "6b89cde2",
   "metadata": {},
   "outputs": [
    {
     "name": "stdout",
     "output_type": "stream",
     "text": [
      "Message before padding:  [97, 98, 99]\n",
      "Length of message before padding: 3 \n",
      "\n",
      "Extended message after padding:  [97, 98, 99, 13, 13, 13, 13, 13, 13, 13, 13, 13, 13, 13, 13, 13]\n",
      "Length after padding: 13 \n",
      "\n",
      "Padded message becomes congruent to zero:  0\n",
      "Blocks nummber: 1\n"
     ]
    }
   ],
   "source": [
    "print(\"Message before padding: \", list(str.encode(msg)))\n",
    "print(\"Length of message before padding: \" + str(len(msg)), '\\n')\n",
    "\n",
    "print(\"Extended message after padding: \", msg_bytes)\n",
    "print(\"Length after padding: \" + str(missing_bytes), '\\n')\n",
    "\n",
    "print(\"Padded message becomes congruent to zero: \", len(msg_bytes) % 16)\n",
    "print(\"Blocks nummber: \" + str(block_no))"
   ]
  },
  {
   "cell_type": "code",
   "execution_count": 6,
   "id": "4a3ca0d3",
   "metadata": {
    "tags": []
   },
   "outputs": [
    {
     "name": "stdout",
     "output_type": "stream",
     "text": [
      "0\t1\t2\t3\t4\t5\t6\t7\t8\t9\t10\t11\t12\t13\t14\t15\n",
      "97\t98\t99\t13\t13\t13\t13\t13\t13\t13\t13\t13\t13\t13\t13\t13\t\n"
     ]
    }
   ],
   "source": [
    "# set a byte_array function to print the byte block values as a table\n",
    "def byte_array():\n",
    "    \n",
    "    # print block number in the first row\n",
    "    print('0\\t1\\t2\\t3\\t4\\t5\\t6\\t7\\t8\\t9\\t10\\t11\\t12\\t13\\t14\\t15')\n",
    "\n",
    "    for i in range(block_no):\n",
    "        line_abb = \"\" \n",
    "        \n",
    "        for j in range(block_size):          \n",
    "            line_abb = line_abb + str(msg_bytes[i * block_size + j]) + '\\t'\n",
    "        \n",
    "        print(line_abb)\n",
    "\n",
    "# get the abc array by block\n",
    "byte_array()"
   ]
  },
  {
   "cell_type": "markdown",
   "id": "7c7311f8",
   "metadata": {},
   "source": [
    "## Step 3: Append Checksum"
   ]
  },
  {
   "cell_type": "code",
   "execution_count": 7,
   "id": "01eb661f",
   "metadata": {},
   "outputs": [
    {
     "name": "stdout",
     "output_type": "stream",
     "text": [
      "0\t1\t2\t3\t4\t5\t6\t7\t8\t9\t10\t11\t12\t13\t14\t15\n",
      "97\t98\t99\t13\t13\t13\t13\t13\t13\t13\t13\t13\t13\t13\t13\t13\t\n",
      "25\t226\t157\t27\t115\t4\t54\t142\t89\t90\t39\t111\t48\t47\t87\t204\t\n"
     ]
    }
   ],
   "source": [
    "# clear the checksum to be zero\n",
    "padded_checksum = block_size * [0]\n",
    "\n",
    "# generate the checksum\n",
    "l = 0\n",
    "for i in range(block_no):\n",
    "    for j in range(block_size):\n",
    "        x = msg_bytes[i * block_size + j]\n",
    "        l = S[(x ^ l)] \n",
    "        l = l ^ padded_checksum[j]\n",
    "        padded_checksum[j] = l\n",
    "\n",
    "# add the checksum to the padded message\n",
    "msg_bytes = msg_bytes + padded_checksum\n",
    "block_no = block_no + 1\n",
    "\n",
    "byte_array()"
   ]
  },
  {
   "cell_type": "markdown",
   "id": "9e1ad465",
   "metadata": {},
   "source": [
    "## Step 4: Initialize MD Buffer"
   ]
  },
  {
   "cell_type": "code",
   "execution_count": 8,
   "id": "ef221ef5",
   "metadata": {},
   "outputs": [],
   "source": [
    "# initialize the message digest to zero using 3 blocks of 16-byte length\n",
    "md2_digest = [0] * 3 * block_size"
   ]
  },
  {
   "cell_type": "markdown",
   "id": "9481f2ab",
   "metadata": {},
   "source": [
    "# Step 5: Process Message in 16-Byte Blocks"
   ]
  },
  {
   "cell_type": "code",
   "execution_count": 9,
   "id": "ea084791",
   "metadata": {},
   "outputs": [
    {
     "name": "stdout",
     "output_type": "stream",
     "text": [
      "218\t133\t59\t13\t63\t136\t217\t155\t48\t40\t58\t105\t230\t222\t214\t187\t\n",
      "133\t59\t13\t63\t136\t217\t155\t48\t40\t58\t105\t230\t222\t214\t187\t146\t\n",
      "59\t13\t63\t136\t217\t155\t48\t40\t58\t105\t230\t222\t214\t187\t146\t101\t\n"
     ]
    }
   ],
   "source": [
    "# generate the hashing\n",
    "for i in range(block_no):    \n",
    "    for j in range(block_size):\n",
    "        md2_digest[block_size + j] = msg_bytes[i * block_size + j]\n",
    "        md2_digest[2 * block_size + j] = md2_digest[block_size + j] ^ md2_digest[j]\n",
    "        \n",
    "    pre_byte = 0\n",
    "    \n",
    "    # iterate for 18 rounds\n",
    "    for k in range(18):\n",
    "        for l in range(3 * block_size):\n",
    "            pre_byte = md2_digest[l] ^ S[pre_byte]\n",
    "            md2_digest[l] = pre_byte\n",
    "        pre_byte = (pre_byte + k) % len(S)\n",
    "\n",
    "for x in range(int(len(md2_digest) / block_size)):\n",
    "    print(''.join(map(lambda y: str(y) + '\\t', md2_digest[x: x + block_size])))"
   ]
  },
  {
   "cell_type": "markdown",
   "id": "a40ed447",
   "metadata": {},
   "source": [
    "# Step 6: Output"
   ]
  },
  {
   "cell_type": "code",
   "execution_count": 10,
   "id": "2605c0ed",
   "metadata": {},
   "outputs": [
    {
     "name": "stdout",
     "output_type": "stream",
     "text": [
      "Expected:\n",
      " abc hash: da853b0d3f88d99b30283a69e6ded6bb \n",
      "\n",
      "Actual:\n",
      " abc hash: da853b0d3f88d99b30283a69e6ded6bb\n"
     ]
    },
    {
     "data": {
      "text/plain": [
       "True"
      ]
     },
     "execution_count": 10,
     "metadata": {},
     "output_type": "execute_result"
    }
   ],
   "source": [
    "# calculate the abc hash and take the first 16 bytes of the digest\n",
    "# convert the list with bytes to hexadecimal format string\n",
    "result = \"\".join([format(x, '02x') for x in md2_digest[:16]])\n",
    "print(\"Expected:\\n\", \"abc hash:\", result, \"\\n\")\n",
    "print(\"Actual:\\n\", \"abc hash:\", \"da853b0d3f88d99b30283a69e6ded6bb\" )\n",
    "\n",
    "# verify equality of expected and actual abc hash \n",
    "result == str(\"da853b0d3f88d99b30283a69e6ded6bb\")"
   ]
  },
  {
   "cell_type": "markdown",
   "id": "faf407f0",
   "metadata": {},
   "source": [
    "# References:\n",
    "- Kaliski, Burt (April 1992). The MD2 Message-Digest Algorithm. IETF. p. 3. doi:10.17487/RFC1319. RFC 1319. Retrieved 22 November 2014\n",
    "- MD2 (Hashes and message digests) - YouTube. [online]. Available from: https://www.youtube.com/watch?v=BTf2zsvjvS0&t=370 [Accessed May 8, 2022]."
   ]
  }
 ],
 "metadata": {
  "kernelspec": {
   "display_name": "Python 3 (ipykernel)",
   "language": "python",
   "name": "python3"
  },
  "language_info": {
   "codemirror_mode": {
    "name": "ipython",
    "version": 3
   },
   "file_extension": ".py",
   "mimetype": "text/x-python",
   "name": "python",
   "nbconvert_exporter": "python",
   "pygments_lexer": "ipython3",
   "version": "3.9.12"
  }
 },
 "nbformat": 4,
 "nbformat_minor": 5
}
