{
 "cells": [
  {
   "cell_type": "markdown",
   "id": "b867a855",
   "metadata": {},
   "source": [
    "# MSc Data Science and Artificial Intelligence\n",
    "# DSM070 Blockchain Programming Coursework\n",
    "# Zimcoin 1: Transactions and Verification"
   ]
  },
  {
   "cell_type": "markdown",
   "id": "80860f38",
   "metadata": {},
   "source": [
    "## Program: 50% - Essay: 50%"
   ]
  },
  {
   "cell_type": "code",
   "execution_count": 1,
   "id": "0c47d6b7",
   "metadata": {},
   "outputs": [],
   "source": [
    "from cryptography.hazmat.primitives import hashes\n",
    "from cryptography.hazmat.backends import default_backend\n",
    "from cryptography.hazmat.primitives import serialization\n",
    "from cryptography.hazmat.primitives.asymmetric import utils, ec"
   ]
  },
  {
   "cell_type": "code",
   "execution_count": 13,
   "id": "b5a3a586",
   "metadata": {},
   "outputs": [],
   "source": [
    "class User():  \n",
    "    def hashSHA1(obj: bytes):\n",
    "        digest = hashes.Hash(hashes.SHA1())\n",
    "        digest.update(obj)\n",
    "        return digest.finalize()"
   ]
  },
  {
   "cell_type": "markdown",
   "id": "287b3b4a",
   "metadata": {},
   "source": [
    "# 1. The Transaction class"
   ]
  },
  {
   "cell_type": "code",
   "execution_count": 3,
   "id": "8e3cef01",
   "metadata": {},
   "outputs": [],
   "source": [
    "# 1.1 constructor\n",
    "class Transaction:\n",
    "    def __init__(self, sender_hash:bytes, recipient_hash:bytes, sender_public_key:bytes, amount:int, fee:int, nonce:int, signature: bytes, txid: bytes):\n",
    "        self.sender_hash = sender_hash\n",
    "        self.recipient_hash = recipient_hash\n",
    "        self.sender_public_key = sender_public_key\n",
    "        self.amount = amount\n",
    "        self.fee = fee\n",
    "        self.nonce = nonce\n",
    "        self.signature = signature\n",
    "        self.txid = txid\n",
    "        self.__verified: bool = False\n",
    "        \n",
    "        self.sender_public_key: bytes = serialization.load_der_public_key(\n",
    "            sender_public_key, default_backend()).public_bytes(\n",
    "            encoding= serialization.Encoding.DER,\n",
    "            format= serialization.PublicFormat.SubjectPublicKeyInfo)\n",
    "        sender_hash = User.hashSHA1(sender_public_key)\n",
    "    \n",
    "# 1.2 verify\n",
    "    def verify(self, sender_balance:int, sender_previous_nonce:int):\n",
    "\n",
    "        # check sender hash\n",
    "        if len(self.sender_hash) != 20:\n",
    "            raise Exception('Sender hash is not 20 bytes long')\n",
    "        \n",
    "        # check recipient hash\n",
    "        if len(self.recipient_hash) != 20:\n",
    "            raise Exception('Recipient hash is not 20 bytes long')\n",
    "        \n",
    "        # check sender hash\n",
    "        if self.sender_hash != User.hashSHA1(self.sender_public_key):\n",
    "            raise Exception(\"The sender hash is not equal to 'SHA1' hash of sender_public_key\")\n",
    "        \n",
    "        # check the amount\n",
    "        if self.amount < 1:\n",
    "            raise Exception('Amount is small')\n",
    "        if self.amount > sender_balance:\n",
    "            raise Exception('Insufficient balance')\n",
    "        if float(self.amount).is_integer() == False:\n",
    "            raise Exception('The amount is not a whole number')\n",
    "\n",
    "        # check the fee\n",
    "        if self.fee < 0:\n",
    "            raise Exception('Fee is small')\n",
    "        if self.fee > self.amount:\n",
    "            raise Exception('The fee is invalid')\n",
    "        if float(self.fee).is_integer() == False:\n",
    "            raise Exception('The fee is not a whole number')\n",
    "        \n",
    "        # check the nonce\n",
    "        if (self.nonce != sender_previous_nonce + 1):\n",
    "            raise Exception(\"Incorrect nonce\")\n",
    "        \n",
    "\n",
    "\n",
    "        if self.txid != self.calculate_txid(self.sender_hash, \n",
    "                                                   self.recipient_hash, \n",
    "                                                   self.sender_public_key, \n",
    "                                                   self.amount, \n",
    "                                                   self.fee, \n",
    "                                                   self.nonce, \n",
    "                                                   self.signature):\n",
    "            raise Exception('Incorrect txid')\n",
    "\n",
    "\n",
    "\n",
    "        # validating the signature\n",
    "        sender_public_key = serialization.load_der_public_key(self.sender_public_key)\n",
    "        sender_public_key.verify(self.signature, self.calculate_signature_hash(recipient_hash, amount, fee, nonce),\n",
    "                                 ec.ECDSA(utils.Prehashed(hashes.SHA256())))\n",
    "        \n",
    "        self.__verified = True\n",
    "        \n",
    "        return True\n",
    "    \n",
    "# 1.2.1 calculation of transaction ID\n",
    "    def calculate_txid(self, sender_hash, recipient_hash, sender_public_key, amount, fee, nonce, signature):\n",
    "        digest = hashes.Hash(hashes.SHA256())\n",
    "        digest.update(self.sender_hash)\n",
    "        digest.update(self.recipient_hash)\n",
    "        digest.update(self.sender_public_key)\n",
    "        digest.update(self.amount.to_bytes(8, byteorder = 'little', signed = False))\n",
    "        digest.update(self.fee.to_bytes(8, byteorder = 'little', signed = False))\n",
    "        digest.update(self.nonce.to_bytes(8, byteorder = 'little', signed = False))\n",
    "        digest.update(self.signature)\n",
    "        \n",
    "        return digest.finalize()\n",
    "\n",
    "# 1.2.2 verification of the signature\n",
    "    def calculate_signature_hash(self, recipient_hash, amount, fee, nonce):\n",
    "        digest = hashes.Hash(hashes.SHA256(),default_backend())\n",
    "        digest.update(self.recipient_hash)\n",
    "        digest.update(self.amount.to_bytes(8, byteorder = 'little', signed = False))\n",
    "        digest.update(self.fee.to_bytes(8, byteorder = 'little', signed = False))\n",
    "        digest.update(self.nonce.to_bytes(8, byteorder = 'little', signed = False))\n",
    "        \n",
    "        return digest.finalize()\n",
    "       \n",
    "# 2. The create_signed_transaction function\n",
    "    def create_signed_transaction(sender_private_key: ec.EllipticCurvePrivateKey, recipient_hash:bytes, amount:int, fee:int, nonce:int):\n",
    "\n",
    "        # check the amount\n",
    "        if amount < 1:\n",
    "            raise Exception('Amount is small')\n",
    "        if float(amount).is_integer() == False:\n",
    "            raise Exception('The amount is not a whole number')\n",
    "\n",
    "        # check the fee\n",
    "        if fee < 0:\n",
    "            raise Exception('Fee is small')\n",
    "        if float(fee).is_integer() == False:\n",
    "            raise Exception('The fee is not a whole number')\n",
    "\n",
    "        # generate public key\n",
    "        sender_public_key = sender_private_key.public_key().public_bytes(\n",
    "            encoding = serialization.Encoding.DER,\n",
    "            format = serialization.PublicFormat.SubjectPublicKeyInfo)\n",
    "        sender_hash = User.hashSHA1(sender_public_key)\n",
    "        \n",
    "        # initiate the new transaction\n",
    "        tx = Transaction(\n",
    "            sender_hash = sender_hash,\n",
    "            recipient_hash = recipient_hash,\n",
    "            sender_public_key = sender_public_key,\n",
    "            amount = amount,\n",
    "            fee = fee,\n",
    "            nonce = nonce,\n",
    "            signature = signature,\n",
    "            txid = txid)\n",
    "        \n",
    "        # sign the transaction\n",
    "        tx.signature = sender_private_key.sign(\n",
    "            tx.calculate_signature_hash(recipient_hash, amount, fee, nonce),\n",
    "            ec.ECDSA(utils.Prehashed(hashes.SHA256())))\n",
    "\n",
    "        # initiate the transaction id\n",
    "        tx.txid = tx.calculate_txid(sender_hash, recipient_hash, sender_public_key, amount, fee, nonce, signature)\n",
    "        \n",
    "        return tx"
   ]
  },
  {
   "cell_type": "markdown",
   "id": "a18a38f5",
   "metadata": {},
   "source": [
    "# 3. Testing"
   ]
  },
  {
   "cell_type": "code",
   "execution_count": 4,
   "id": "826ba5db",
   "metadata": {},
   "outputs": [],
   "source": [
    "sender_hash = bytes.fromhex(\"3df8f04b3c159fdc6631c4b8b0874940344d173d\")\n",
    "recipient_hash = bytes.fromhex(\"5c1499a0484ace2f731b0afb83241e15f0e168ca\")\n",
    "sender_public_key = bytes.fromhex(\"3056301006072a8648ce3d020106052b8104000a\" +\n",
    "                         \"03420004886ed03cb7ffd4cbd95579ea2e202f1d\" +\n",
    "                         \"b29afc3bf5d7c2c34a34701bbb0685a7b535f1e6\" +\n",
    "                         \"31373afe8d1c860a9ac47d8e2659b74d437435b0\" +\n",
    "                         \"5f2c55bf3f033ac1\")\n",
    "amount = 10\n",
    "fee = 2\n",
    "nonce = 5\n",
    "signature = bytes.fromhex(\"3046022100f9c076a72a2341a1b8cb68520713e1\" +\n",
    "                          \"2f173378cf78cf79c7978a2337fbad141d022100\" +\n",
    "                          \"ec27704d4d604f839f99e62c02e65bf60cc93ae1\"\n",
    "                          \"735c1ccf29fd31bd3c5a40ed\")\n",
    "txid = bytes.fromhex(\"ca388e0890b71bd1775460d478f26af3776c9b4f\" +\n",
    "                  \"6c2b936e1e788c5c87657bc3\")"
   ]
  },
  {
   "cell_type": "code",
   "execution_count": 5,
   "id": "b5380646",
   "metadata": {},
   "outputs": [],
   "source": [
    "# Test 1\n",
    "# verify a transaction with a high sender balance value\n",
    "sender_balance = 1500\n",
    "sender_previous_nonce = nonce - 1\n",
    "\n",
    "sender_private_key = ec.generate_private_key(ec.SECP256K1(), default_backend())\n",
    "create_tx = Transaction.create_signed_transaction(sender_private_key,recipient_hash,amount,fee,nonce)\n",
    "\n",
    "assert create_tx.verify(sender_balance, sender_previous_nonce) == True"
   ]
  },
  {
   "cell_type": "code",
   "execution_count": 6,
   "id": "479e5e5e",
   "metadata": {},
   "outputs": [
    {
     "ename": "Exception",
     "evalue": "The fee is invalid",
     "output_type": "error",
     "traceback": [
      "\u001b[1;31m---------------------------------------------------------------------------\u001b[0m",
      "\u001b[1;31mException\u001b[0m                                 Traceback (most recent call last)",
      "\u001b[1;32m~\\AppData\\Local\\Temp/ipykernel_29768/308883129.py\u001b[0m in \u001b[0;36m<module>\u001b[1;34m\u001b[0m\n\u001b[0;32m      8\u001b[0m \u001b[1;33m\u001b[0m\u001b[0m\n\u001b[0;32m      9\u001b[0m \u001b[0mcreate_tx\u001b[0m \u001b[1;33m=\u001b[0m \u001b[0mTransaction\u001b[0m\u001b[1;33m.\u001b[0m\u001b[0mcreate_signed_transaction\u001b[0m\u001b[1;33m(\u001b[0m\u001b[0msender_private_key\u001b[0m\u001b[1;33m,\u001b[0m\u001b[0mrecipient_hash\u001b[0m\u001b[1;33m,\u001b[0m\u001b[0mamount\u001b[0m\u001b[1;33m,\u001b[0m\u001b[0mfee\u001b[0m\u001b[1;33m,\u001b[0m\u001b[0mnonce\u001b[0m\u001b[1;33m)\u001b[0m\u001b[1;33m\u001b[0m\u001b[1;33m\u001b[0m\u001b[0m\n\u001b[1;32m---> 10\u001b[1;33m \u001b[1;32massert\u001b[0m \u001b[0mcreate_tx\u001b[0m\u001b[1;33m.\u001b[0m\u001b[0mverify\u001b[0m\u001b[1;33m(\u001b[0m\u001b[0msender_balance\u001b[0m\u001b[1;33m,\u001b[0m \u001b[0msender_previous_nonce\u001b[0m\u001b[1;33m)\u001b[0m \u001b[1;33m==\u001b[0m \u001b[1;32mTrue\u001b[0m\u001b[1;33m\u001b[0m\u001b[1;33m\u001b[0m\u001b[0m\n\u001b[0m",
      "\u001b[1;32m~\\AppData\\Local\\Temp/ipykernel_29768/1087377191.py\u001b[0m in \u001b[0;36mverify\u001b[1;34m(self, sender_balance, sender_previous_nonce)\u001b[0m\n\u001b[0;32m     45\u001b[0m             \u001b[1;32mraise\u001b[0m \u001b[0mException\u001b[0m\u001b[1;33m(\u001b[0m\u001b[1;34m'Fee is small'\u001b[0m\u001b[1;33m)\u001b[0m\u001b[1;33m\u001b[0m\u001b[1;33m\u001b[0m\u001b[0m\n\u001b[0;32m     46\u001b[0m         \u001b[1;32mif\u001b[0m \u001b[0mself\u001b[0m\u001b[1;33m.\u001b[0m\u001b[0mfee\u001b[0m \u001b[1;33m>\u001b[0m \u001b[0mself\u001b[0m\u001b[1;33m.\u001b[0m\u001b[0mamount\u001b[0m\u001b[1;33m:\u001b[0m\u001b[1;33m\u001b[0m\u001b[1;33m\u001b[0m\u001b[0m\n\u001b[1;32m---> 47\u001b[1;33m             \u001b[1;32mraise\u001b[0m \u001b[0mException\u001b[0m\u001b[1;33m(\u001b[0m\u001b[1;34m'The fee is invalid'\u001b[0m\u001b[1;33m)\u001b[0m\u001b[1;33m\u001b[0m\u001b[1;33m\u001b[0m\u001b[0m\n\u001b[0m\u001b[0;32m     48\u001b[0m         \u001b[1;32mif\u001b[0m \u001b[0mfloat\u001b[0m\u001b[1;33m(\u001b[0m\u001b[0mself\u001b[0m\u001b[1;33m.\u001b[0m\u001b[0mfee\u001b[0m\u001b[1;33m)\u001b[0m\u001b[1;33m.\u001b[0m\u001b[0mis_integer\u001b[0m\u001b[1;33m(\u001b[0m\u001b[1;33m)\u001b[0m \u001b[1;33m==\u001b[0m \u001b[1;32mFalse\u001b[0m\u001b[1;33m:\u001b[0m\u001b[1;33m\u001b[0m\u001b[1;33m\u001b[0m\u001b[0m\n\u001b[0;32m     49\u001b[0m             \u001b[1;32mraise\u001b[0m \u001b[0mException\u001b[0m\u001b[1;33m(\u001b[0m\u001b[1;34m'The fee is not a whole number'\u001b[0m\u001b[1;33m)\u001b[0m\u001b[1;33m\u001b[0m\u001b[1;33m\u001b[0m\u001b[0m\n",
      "\u001b[1;31mException\u001b[0m: The fee is invalid"
     ]
    }
   ],
   "source": [
    "# Test 2.1\n",
    "# test the validity of a transaction with fee greater than the amount value\n",
    "amount = 80\n",
    "fee = 100\n",
    "nonce = 5\n",
    "sender_balance = 100\n",
    "sender_previous_nonce = nonce - 1\n",
    "\n",
    "create_tx = Transaction.create_signed_transaction(sender_private_key,recipient_hash,amount,fee,nonce)\n",
    "assert create_tx.verify(sender_balance, sender_previous_nonce) == True"
   ]
  },
  {
   "cell_type": "code",
   "execution_count": 7,
   "id": "ad8c1a3a",
   "metadata": {},
   "outputs": [
    {
     "ename": "Exception",
     "evalue": "Insufficient balance",
     "output_type": "error",
     "traceback": [
      "\u001b[1;31m---------------------------------------------------------------------------\u001b[0m",
      "\u001b[1;31mException\u001b[0m                                 Traceback (most recent call last)",
      "\u001b[1;32m~\\AppData\\Local\\Temp/ipykernel_29768/3124646497.py\u001b[0m in \u001b[0;36m<module>\u001b[1;34m\u001b[0m\n\u001b[0;32m      8\u001b[0m \u001b[1;33m\u001b[0m\u001b[0m\n\u001b[0;32m      9\u001b[0m \u001b[0mcreate_tx\u001b[0m \u001b[1;33m=\u001b[0m \u001b[0mTransaction\u001b[0m\u001b[1;33m.\u001b[0m\u001b[0mcreate_signed_transaction\u001b[0m\u001b[1;33m(\u001b[0m\u001b[0msender_private_key\u001b[0m\u001b[1;33m,\u001b[0m\u001b[0mrecipient_hash\u001b[0m\u001b[1;33m,\u001b[0m\u001b[0mamount\u001b[0m\u001b[1;33m,\u001b[0m\u001b[0mfee\u001b[0m\u001b[1;33m,\u001b[0m\u001b[0mnonce\u001b[0m\u001b[1;33m)\u001b[0m\u001b[1;33m\u001b[0m\u001b[1;33m\u001b[0m\u001b[0m\n\u001b[1;32m---> 10\u001b[1;33m \u001b[1;32massert\u001b[0m \u001b[0mcreate_tx\u001b[0m\u001b[1;33m.\u001b[0m\u001b[0mverify\u001b[0m\u001b[1;33m(\u001b[0m\u001b[0msender_balance\u001b[0m\u001b[1;33m,\u001b[0m \u001b[0msender_previous_nonce\u001b[0m\u001b[1;33m)\u001b[0m \u001b[1;33m==\u001b[0m \u001b[1;32mTrue\u001b[0m\u001b[1;33m\u001b[0m\u001b[1;33m\u001b[0m\u001b[0m\n\u001b[0m",
      "\u001b[1;32m~\\AppData\\Local\\Temp/ipykernel_29768/1087377191.py\u001b[0m in \u001b[0;36mverify\u001b[1;34m(self, sender_balance, sender_previous_nonce)\u001b[0m\n\u001b[0;32m     37\u001b[0m             \u001b[1;32mraise\u001b[0m \u001b[0mException\u001b[0m\u001b[1;33m(\u001b[0m\u001b[1;34m'Amount is small'\u001b[0m\u001b[1;33m)\u001b[0m\u001b[1;33m\u001b[0m\u001b[1;33m\u001b[0m\u001b[0m\n\u001b[0;32m     38\u001b[0m         \u001b[1;32mif\u001b[0m \u001b[0mself\u001b[0m\u001b[1;33m.\u001b[0m\u001b[0mamount\u001b[0m \u001b[1;33m>\u001b[0m \u001b[0msender_balance\u001b[0m\u001b[1;33m:\u001b[0m\u001b[1;33m\u001b[0m\u001b[1;33m\u001b[0m\u001b[0m\n\u001b[1;32m---> 39\u001b[1;33m             \u001b[1;32mraise\u001b[0m \u001b[0mException\u001b[0m\u001b[1;33m(\u001b[0m\u001b[1;34m'Insufficient balance'\u001b[0m\u001b[1;33m)\u001b[0m\u001b[1;33m\u001b[0m\u001b[1;33m\u001b[0m\u001b[0m\n\u001b[0m\u001b[0;32m     40\u001b[0m         \u001b[1;32mif\u001b[0m \u001b[0mfloat\u001b[0m\u001b[1;33m(\u001b[0m\u001b[0mself\u001b[0m\u001b[1;33m.\u001b[0m\u001b[0mamount\u001b[0m\u001b[1;33m)\u001b[0m\u001b[1;33m.\u001b[0m\u001b[0mis_integer\u001b[0m\u001b[1;33m(\u001b[0m\u001b[1;33m)\u001b[0m \u001b[1;33m==\u001b[0m \u001b[1;32mFalse\u001b[0m\u001b[1;33m:\u001b[0m\u001b[1;33m\u001b[0m\u001b[1;33m\u001b[0m\u001b[0m\n\u001b[0;32m     41\u001b[0m             \u001b[1;32mraise\u001b[0m \u001b[0mException\u001b[0m\u001b[1;33m(\u001b[0m\u001b[1;34m'The amount is not a whole number'\u001b[0m\u001b[1;33m)\u001b[0m\u001b[1;33m\u001b[0m\u001b[1;33m\u001b[0m\u001b[0m\n",
      "\u001b[1;31mException\u001b[0m: Insufficient balance"
     ]
    }
   ],
   "source": [
    "# Test 2.2\n",
    "# modify the amount value to be greater than the balance\n",
    "amount = 180\n",
    "fee = 100\n",
    "nonce = 5\n",
    "sender_balance = 100\n",
    "sender_previous_nonce = nonce - 1\n",
    "\n",
    "create_tx = Transaction.create_signed_transaction(sender_private_key,recipient_hash,amount,fee,nonce)\n",
    "assert create_tx.verify(sender_balance, sender_previous_nonce) == True"
   ]
  },
  {
   "cell_type": "code",
   "execution_count": 8,
   "id": "6788b1c2",
   "metadata": {},
   "outputs": [
    {
     "ename": "InvalidSignature",
     "evalue": "",
     "output_type": "error",
     "traceback": [
      "\u001b[1;31m---------------------------------------------------------------------------\u001b[0m",
      "\u001b[1;31mInvalidSignature\u001b[0m                          Traceback (most recent call last)",
      "\u001b[1;32m~\\AppData\\Local\\Temp/ipykernel_29768/1302666364.py\u001b[0m in \u001b[0;36m<module>\u001b[1;34m\u001b[0m\n\u001b[0;32m     14\u001b[0m \u001b[0mcreate_tx\u001b[0m\u001b[1;33m.\u001b[0m\u001b[0mtxid\u001b[0m \u001b[1;33m=\u001b[0m \u001b[0mcreate_tx\u001b[0m\u001b[1;33m.\u001b[0m\u001b[0mcalculate_txid\u001b[0m\u001b[1;33m(\u001b[0m\u001b[0msender_hash\u001b[0m\u001b[1;33m,\u001b[0m \u001b[0mrecipient_hash\u001b[0m\u001b[1;33m,\u001b[0m \u001b[0msender_public_key\u001b[0m\u001b[1;33m,\u001b[0m \u001b[0mamount\u001b[0m\u001b[1;33m,\u001b[0m \u001b[0mfee\u001b[0m\u001b[1;33m,\u001b[0m \u001b[0mnonce\u001b[0m\u001b[1;33m,\u001b[0m \u001b[0msignature\u001b[0m\u001b[1;33m)\u001b[0m\u001b[1;33m\u001b[0m\u001b[1;33m\u001b[0m\u001b[0m\n\u001b[0;32m     15\u001b[0m \u001b[1;33m\u001b[0m\u001b[0m\n\u001b[1;32m---> 16\u001b[1;33m \u001b[1;32massert\u001b[0m \u001b[0mcreate_tx\u001b[0m\u001b[1;33m.\u001b[0m\u001b[0mverify\u001b[0m\u001b[1;33m(\u001b[0m\u001b[0msender_balance\u001b[0m\u001b[1;33m,\u001b[0m \u001b[0msender_previous_nonce\u001b[0m\u001b[1;33m)\u001b[0m \u001b[1;33m==\u001b[0m \u001b[1;32mTrue\u001b[0m\u001b[1;33m\u001b[0m\u001b[1;33m\u001b[0m\u001b[0m\n\u001b[0m",
      "\u001b[1;32m~\\AppData\\Local\\Temp/ipykernel_29768/1087377191.py\u001b[0m in \u001b[0;36mverify\u001b[1;34m(self, sender_balance, sender_previous_nonce)\u001b[0m\n\u001b[0;32m     68\u001b[0m         \u001b[1;31m# validating the signature\u001b[0m\u001b[1;33m\u001b[0m\u001b[1;33m\u001b[0m\u001b[0m\n\u001b[0;32m     69\u001b[0m         \u001b[0msender_public_key\u001b[0m \u001b[1;33m=\u001b[0m \u001b[0mserialization\u001b[0m\u001b[1;33m.\u001b[0m\u001b[0mload_der_public_key\u001b[0m\u001b[1;33m(\u001b[0m\u001b[0mself\u001b[0m\u001b[1;33m.\u001b[0m\u001b[0msender_public_key\u001b[0m\u001b[1;33m)\u001b[0m\u001b[1;33m\u001b[0m\u001b[1;33m\u001b[0m\u001b[0m\n\u001b[1;32m---> 70\u001b[1;33m         sender_public_key.verify(self.signature, self.calculate_signature_hash(recipient_hash, amount, fee, nonce),\n\u001b[0m\u001b[0;32m     71\u001b[0m                                  ec.ECDSA(utils.Prehashed(hashes.SHA256())))\n\u001b[0;32m     72\u001b[0m \u001b[1;33m\u001b[0m\u001b[0m\n",
      "\u001b[1;32m~\\anaconda3\\lib\\site-packages\\cryptography\\hazmat\\backends\\openssl\\ec.py\u001b[0m in \u001b[0;36mverify\u001b[1;34m(self, signature, data, signature_algorithm)\u001b[0m\n\u001b[0;32m    376\u001b[0m             \u001b[0msignature_algorithm\u001b[0m\u001b[1;33m.\u001b[0m\u001b[0m_algorithm\u001b[0m\u001b[1;33m,\u001b[0m  \u001b[1;31m# type: ignore[attr-defined]\u001b[0m\u001b[1;33m\u001b[0m\u001b[1;33m\u001b[0m\u001b[0m\n\u001b[0;32m    377\u001b[0m         )\n\u001b[1;32m--> 378\u001b[1;33m         \u001b[0m_ecdsa_sig_verify\u001b[0m\u001b[1;33m(\u001b[0m\u001b[0mself\u001b[0m\u001b[1;33m.\u001b[0m\u001b[0m_backend\u001b[0m\u001b[1;33m,\u001b[0m \u001b[0mself\u001b[0m\u001b[1;33m,\u001b[0m \u001b[0msignature\u001b[0m\u001b[1;33m,\u001b[0m \u001b[0mdata\u001b[0m\u001b[1;33m)\u001b[0m\u001b[1;33m\u001b[0m\u001b[1;33m\u001b[0m\u001b[0m\n\u001b[0m",
      "\u001b[1;32m~\\anaconda3\\lib\\site-packages\\cryptography\\hazmat\\backends\\openssl\\ec.py\u001b[0m in \u001b[0;36m_ecdsa_sig_verify\u001b[1;34m(backend, public_key, signature, data)\u001b[0m\n\u001b[0;32m    104\u001b[0m     \u001b[1;32mif\u001b[0m \u001b[0mres\u001b[0m \u001b[1;33m!=\u001b[0m \u001b[1;36m1\u001b[0m\u001b[1;33m:\u001b[0m\u001b[1;33m\u001b[0m\u001b[1;33m\u001b[0m\u001b[0m\n\u001b[0;32m    105\u001b[0m         \u001b[0mbackend\u001b[0m\u001b[1;33m.\u001b[0m\u001b[0m_consume_errors\u001b[0m\u001b[1;33m(\u001b[0m\u001b[1;33m)\u001b[0m\u001b[1;33m\u001b[0m\u001b[1;33m\u001b[0m\u001b[0m\n\u001b[1;32m--> 106\u001b[1;33m         \u001b[1;32mraise\u001b[0m \u001b[0mInvalidSignature\u001b[0m\u001b[1;33m\u001b[0m\u001b[1;33m\u001b[0m\u001b[0m\n\u001b[0m\u001b[0;32m    107\u001b[0m \u001b[1;33m\u001b[0m\u001b[0m\n\u001b[0;32m    108\u001b[0m \u001b[1;33m\u001b[0m\u001b[0m\n",
      "\u001b[1;31mInvalidSignature\u001b[0m: "
     ]
    }
   ],
   "source": [
    "# Test 3\n",
    "# verify the signature\n",
    "amount = 50\n",
    "fee = 1\n",
    "nonce = 5\n",
    "sender_balance = 100\n",
    "sender_previous_nonce = nonce - 1\n",
    "\n",
    "create_tx = Transaction.create_signed_transaction(sender_private_key,recipient_hash,amount,fee,nonce)\n",
    "assert create_tx.verify(sender_balance, sender_previous_nonce) == True\n",
    "\n",
    "# generate the txid with different amount\n",
    "create_tx.amount = 5\n",
    "create_tx.txid = create_tx.calculate_txid(sender_hash, recipient_hash, sender_public_key, amount, fee, nonce, signature)\n",
    "\n",
    "assert create_tx.verify(sender_balance, sender_previous_nonce) == True"
   ]
  },
  {
   "cell_type": "code",
   "execution_count": 9,
   "id": "aa9fca7e",
   "metadata": {},
   "outputs": [
    {
     "ename": "Exception",
     "evalue": "Insufficient balance",
     "output_type": "error",
     "traceback": [
      "\u001b[1;31m---------------------------------------------------------------------------\u001b[0m",
      "\u001b[1;31mException\u001b[0m                                 Traceback (most recent call last)",
      "\u001b[1;32m~\\AppData\\Local\\Temp/ipykernel_29768/2666320982.py\u001b[0m in \u001b[0;36m<module>\u001b[1;34m\u001b[0m\n\u001b[0;32m      8\u001b[0m \u001b[1;33m\u001b[0m\u001b[0m\n\u001b[0;32m      9\u001b[0m \u001b[0mcreate_tx\u001b[0m \u001b[1;33m=\u001b[0m \u001b[0mTransaction\u001b[0m\u001b[1;33m.\u001b[0m\u001b[0mcreate_signed_transaction\u001b[0m\u001b[1;33m(\u001b[0m\u001b[0msender_private_key\u001b[0m\u001b[1;33m,\u001b[0m\u001b[0mrecipient_hash\u001b[0m\u001b[1;33m,\u001b[0m\u001b[0mamount\u001b[0m\u001b[1;33m,\u001b[0m\u001b[0mfee\u001b[0m\u001b[1;33m,\u001b[0m\u001b[0mnonce\u001b[0m\u001b[1;33m)\u001b[0m\u001b[1;33m\u001b[0m\u001b[1;33m\u001b[0m\u001b[0m\n\u001b[1;32m---> 10\u001b[1;33m \u001b[1;32massert\u001b[0m \u001b[0mcreate_tx\u001b[0m\u001b[1;33m.\u001b[0m\u001b[0mverify\u001b[0m\u001b[1;33m(\u001b[0m\u001b[0msender_balance\u001b[0m\u001b[1;33m,\u001b[0m \u001b[0msender_previous_nonce\u001b[0m\u001b[1;33m)\u001b[0m \u001b[1;33m==\u001b[0m \u001b[1;32mTrue\u001b[0m\u001b[1;33m\u001b[0m\u001b[1;33m\u001b[0m\u001b[0m\n\u001b[0m",
      "\u001b[1;32m~\\AppData\\Local\\Temp/ipykernel_29768/1087377191.py\u001b[0m in \u001b[0;36mverify\u001b[1;34m(self, sender_balance, sender_previous_nonce)\u001b[0m\n\u001b[0;32m     37\u001b[0m             \u001b[1;32mraise\u001b[0m \u001b[0mException\u001b[0m\u001b[1;33m(\u001b[0m\u001b[1;34m'Amount is small'\u001b[0m\u001b[1;33m)\u001b[0m\u001b[1;33m\u001b[0m\u001b[1;33m\u001b[0m\u001b[0m\n\u001b[0;32m     38\u001b[0m         \u001b[1;32mif\u001b[0m \u001b[0mself\u001b[0m\u001b[1;33m.\u001b[0m\u001b[0mamount\u001b[0m \u001b[1;33m>\u001b[0m \u001b[0msender_balance\u001b[0m\u001b[1;33m:\u001b[0m\u001b[1;33m\u001b[0m\u001b[1;33m\u001b[0m\u001b[0m\n\u001b[1;32m---> 39\u001b[1;33m             \u001b[1;32mraise\u001b[0m \u001b[0mException\u001b[0m\u001b[1;33m(\u001b[0m\u001b[1;34m'Insufficient balance'\u001b[0m\u001b[1;33m)\u001b[0m\u001b[1;33m\u001b[0m\u001b[1;33m\u001b[0m\u001b[0m\n\u001b[0m\u001b[0;32m     40\u001b[0m         \u001b[1;32mif\u001b[0m \u001b[0mfloat\u001b[0m\u001b[1;33m(\u001b[0m\u001b[0mself\u001b[0m\u001b[1;33m.\u001b[0m\u001b[0mamount\u001b[0m\u001b[1;33m)\u001b[0m\u001b[1;33m.\u001b[0m\u001b[0mis_integer\u001b[0m\u001b[1;33m(\u001b[0m\u001b[1;33m)\u001b[0m \u001b[1;33m==\u001b[0m \u001b[1;32mFalse\u001b[0m\u001b[1;33m:\u001b[0m\u001b[1;33m\u001b[0m\u001b[1;33m\u001b[0m\u001b[0m\n\u001b[0;32m     41\u001b[0m             \u001b[1;32mraise\u001b[0m \u001b[0mException\u001b[0m\u001b[1;33m(\u001b[0m\u001b[1;34m'The amount is not a whole number'\u001b[0m\u001b[1;33m)\u001b[0m\u001b[1;33m\u001b[0m\u001b[1;33m\u001b[0m\u001b[0m\n",
      "\u001b[1;31mException\u001b[0m: Insufficient balance"
     ]
    }
   ],
   "source": [
    "# Test 4.1\n",
    "# verify a low sender balance\n",
    "amount = 80\n",
    "fee = 100\n",
    "nonce = 5\n",
    "sender_balance = 10\n",
    "sender_previous_nonce = nonce - 1\n",
    "\n",
    "create_tx = Transaction.create_signed_transaction(sender_private_key,recipient_hash,amount,fee,nonce)\n",
    "assert create_tx.verify(sender_balance, sender_previous_nonce) == True"
   ]
  },
  {
   "cell_type": "code",
   "execution_count": 10,
   "id": "a1766a7f",
   "metadata": {},
   "outputs": [
    {
     "ename": "Exception",
     "evalue": "Incorrect nonce",
     "output_type": "error",
     "traceback": [
      "\u001b[1;31m---------------------------------------------------------------------------\u001b[0m",
      "\u001b[1;31mException\u001b[0m                                 Traceback (most recent call last)",
      "\u001b[1;32m~\\AppData\\Local\\Temp/ipykernel_29768/981800845.py\u001b[0m in \u001b[0;36m<module>\u001b[1;34m\u001b[0m\n\u001b[0;32m      8\u001b[0m \u001b[1;33m\u001b[0m\u001b[0m\n\u001b[0;32m      9\u001b[0m \u001b[0mcreate_tx\u001b[0m \u001b[1;33m=\u001b[0m \u001b[0mTransaction\u001b[0m\u001b[1;33m.\u001b[0m\u001b[0mcreate_signed_transaction\u001b[0m\u001b[1;33m(\u001b[0m\u001b[0msender_private_key\u001b[0m\u001b[1;33m,\u001b[0m\u001b[0mrecipient_hash\u001b[0m\u001b[1;33m,\u001b[0m\u001b[0mamount\u001b[0m\u001b[1;33m,\u001b[0m\u001b[0mfee\u001b[0m\u001b[1;33m,\u001b[0m\u001b[0mnonce\u001b[0m\u001b[1;33m)\u001b[0m\u001b[1;33m\u001b[0m\u001b[1;33m\u001b[0m\u001b[0m\n\u001b[1;32m---> 10\u001b[1;33m \u001b[1;32massert\u001b[0m \u001b[0mcreate_tx\u001b[0m\u001b[1;33m.\u001b[0m\u001b[0mverify\u001b[0m\u001b[1;33m(\u001b[0m\u001b[0msender_balance\u001b[0m\u001b[1;33m,\u001b[0m \u001b[0msender_previous_nonce\u001b[0m\u001b[1;33m)\u001b[0m \u001b[1;33m==\u001b[0m \u001b[1;32mTrue\u001b[0m\u001b[1;33m\u001b[0m\u001b[1;33m\u001b[0m\u001b[0m\n\u001b[0m",
      "\u001b[1;32m~\\AppData\\Local\\Temp/ipykernel_29768/1087377191.py\u001b[0m in \u001b[0;36mverify\u001b[1;34m(self, sender_balance, sender_previous_nonce)\u001b[0m\n\u001b[0;32m     51\u001b[0m         \u001b[1;31m# check the nonce\u001b[0m\u001b[1;33m\u001b[0m\u001b[1;33m\u001b[0m\u001b[0m\n\u001b[0;32m     52\u001b[0m         \u001b[1;32mif\u001b[0m \u001b[1;33m(\u001b[0m\u001b[0mself\u001b[0m\u001b[1;33m.\u001b[0m\u001b[0mnonce\u001b[0m \u001b[1;33m!=\u001b[0m \u001b[0msender_previous_nonce\u001b[0m \u001b[1;33m+\u001b[0m \u001b[1;36m1\u001b[0m\u001b[1;33m)\u001b[0m\u001b[1;33m:\u001b[0m\u001b[1;33m\u001b[0m\u001b[1;33m\u001b[0m\u001b[0m\n\u001b[1;32m---> 53\u001b[1;33m             \u001b[1;32mraise\u001b[0m \u001b[0mException\u001b[0m\u001b[1;33m(\u001b[0m\u001b[1;34m\"Incorrect nonce\"\u001b[0m\u001b[1;33m)\u001b[0m\u001b[1;33m\u001b[0m\u001b[1;33m\u001b[0m\u001b[0m\n\u001b[0m\u001b[0;32m     54\u001b[0m \u001b[1;33m\u001b[0m\u001b[0m\n\u001b[0;32m     55\u001b[0m \u001b[1;33m\u001b[0m\u001b[0m\n",
      "\u001b[1;31mException\u001b[0m: Incorrect nonce"
     ]
    }
   ],
   "source": [
    "# Test 4.2\n",
    "# verify an incorrect nonce\n",
    "amount = 80\n",
    "fee = 10\n",
    "nonce = 5\n",
    "sender_balance = 1000\n",
    "sender_previous_nonce = nonce * 1\n",
    "\n",
    "create_tx = Transaction.create_signed_transaction(sender_private_key,recipient_hash,amount,fee,nonce)\n",
    "assert create_tx.verify(sender_balance, sender_previous_nonce) == True"
   ]
  },
  {
   "cell_type": "code",
   "execution_count": 11,
   "id": "2ac2ea74",
   "metadata": {},
   "outputs": [
    {
     "ename": "InvalidSignature",
     "evalue": "",
     "output_type": "error",
     "traceback": [
      "\u001b[1;31m---------------------------------------------------------------------------\u001b[0m",
      "\u001b[1;31mInvalidSignature\u001b[0m                          Traceback (most recent call last)",
      "\u001b[1;32m~\\AppData\\Local\\Temp/ipykernel_29768/1868623282.py\u001b[0m in \u001b[0;36m<module>\u001b[1;34m\u001b[0m\n\u001b[0;32m     22\u001b[0m \u001b[0mcreate_tx_A\u001b[0m\u001b[1;33m.\u001b[0m\u001b[0mtxid\u001b[0m \u001b[1;33m=\u001b[0m \u001b[0mcreate_tx_A\u001b[0m\u001b[1;33m.\u001b[0m\u001b[0mcalculate_txid\u001b[0m\u001b[1;33m(\u001b[0m\u001b[0msender_hash\u001b[0m\u001b[1;33m,\u001b[0m \u001b[0mrecipient_hash\u001b[0m\u001b[1;33m,\u001b[0m \u001b[0msender_public_key\u001b[0m\u001b[1;33m,\u001b[0m \u001b[0mamount\u001b[0m\u001b[1;33m,\u001b[0m \u001b[0mfee\u001b[0m\u001b[1;33m,\u001b[0m \u001b[0mnonce\u001b[0m\u001b[1;33m,\u001b[0m \u001b[0msignature\u001b[0m\u001b[1;33m)\u001b[0m\u001b[1;33m\u001b[0m\u001b[1;33m\u001b[0m\u001b[0m\n\u001b[0;32m     23\u001b[0m \u001b[1;33m\u001b[0m\u001b[0m\n\u001b[1;32m---> 24\u001b[1;33m \u001b[1;32massert\u001b[0m \u001b[0mcreate_tx_A\u001b[0m\u001b[1;33m.\u001b[0m\u001b[0mverify\u001b[0m\u001b[1;33m(\u001b[0m\u001b[0msender_balance\u001b[0m\u001b[1;33m=\u001b[0m\u001b[1;36m100\u001b[0m\u001b[1;33m,\u001b[0m \u001b[0msender_previous_nonce\u001b[0m\u001b[1;33m=\u001b[0m\u001b[0mcreate_tx_A\u001b[0m\u001b[1;33m.\u001b[0m\u001b[0mnonce\u001b[0m\u001b[1;33m-\u001b[0m\u001b[1;36m1\u001b[0m\u001b[1;33m)\u001b[0m \u001b[1;33m==\u001b[0m \u001b[1;32mTrue\u001b[0m\u001b[1;33m\u001b[0m\u001b[1;33m\u001b[0m\u001b[0m\n\u001b[0m",
      "\u001b[1;32m~\\AppData\\Local\\Temp/ipykernel_29768/1087377191.py\u001b[0m in \u001b[0;36mverify\u001b[1;34m(self, sender_balance, sender_previous_nonce)\u001b[0m\n\u001b[0;32m     68\u001b[0m         \u001b[1;31m# validating the signature\u001b[0m\u001b[1;33m\u001b[0m\u001b[1;33m\u001b[0m\u001b[0m\n\u001b[0;32m     69\u001b[0m         \u001b[0msender_public_key\u001b[0m \u001b[1;33m=\u001b[0m \u001b[0mserialization\u001b[0m\u001b[1;33m.\u001b[0m\u001b[0mload_der_public_key\u001b[0m\u001b[1;33m(\u001b[0m\u001b[0mself\u001b[0m\u001b[1;33m.\u001b[0m\u001b[0msender_public_key\u001b[0m\u001b[1;33m)\u001b[0m\u001b[1;33m\u001b[0m\u001b[1;33m\u001b[0m\u001b[0m\n\u001b[1;32m---> 70\u001b[1;33m         sender_public_key.verify(self.signature, self.calculate_signature_hash(recipient_hash, amount, fee, nonce),\n\u001b[0m\u001b[0;32m     71\u001b[0m                                  ec.ECDSA(utils.Prehashed(hashes.SHA256())))\n\u001b[0;32m     72\u001b[0m \u001b[1;33m\u001b[0m\u001b[0m\n",
      "\u001b[1;32m~\\anaconda3\\lib\\site-packages\\cryptography\\hazmat\\backends\\openssl\\ec.py\u001b[0m in \u001b[0;36mverify\u001b[1;34m(self, signature, data, signature_algorithm)\u001b[0m\n\u001b[0;32m    376\u001b[0m             \u001b[0msignature_algorithm\u001b[0m\u001b[1;33m.\u001b[0m\u001b[0m_algorithm\u001b[0m\u001b[1;33m,\u001b[0m  \u001b[1;31m# type: ignore[attr-defined]\u001b[0m\u001b[1;33m\u001b[0m\u001b[1;33m\u001b[0m\u001b[0m\n\u001b[0;32m    377\u001b[0m         )\n\u001b[1;32m--> 378\u001b[1;33m         \u001b[0m_ecdsa_sig_verify\u001b[0m\u001b[1;33m(\u001b[0m\u001b[0mself\u001b[0m\u001b[1;33m.\u001b[0m\u001b[0m_backend\u001b[0m\u001b[1;33m,\u001b[0m \u001b[0mself\u001b[0m\u001b[1;33m,\u001b[0m \u001b[0msignature\u001b[0m\u001b[1;33m,\u001b[0m \u001b[0mdata\u001b[0m\u001b[1;33m)\u001b[0m\u001b[1;33m\u001b[0m\u001b[1;33m\u001b[0m\u001b[0m\n\u001b[0m",
      "\u001b[1;32m~\\anaconda3\\lib\\site-packages\\cryptography\\hazmat\\backends\\openssl\\ec.py\u001b[0m in \u001b[0;36m_ecdsa_sig_verify\u001b[1;34m(backend, public_key, signature, data)\u001b[0m\n\u001b[0;32m    104\u001b[0m     \u001b[1;32mif\u001b[0m \u001b[0mres\u001b[0m \u001b[1;33m!=\u001b[0m \u001b[1;36m1\u001b[0m\u001b[1;33m:\u001b[0m\u001b[1;33m\u001b[0m\u001b[1;33m\u001b[0m\u001b[0m\n\u001b[0;32m    105\u001b[0m         \u001b[0mbackend\u001b[0m\u001b[1;33m.\u001b[0m\u001b[0m_consume_errors\u001b[0m\u001b[1;33m(\u001b[0m\u001b[1;33m)\u001b[0m\u001b[1;33m\u001b[0m\u001b[1;33m\u001b[0m\u001b[0m\n\u001b[1;32m--> 106\u001b[1;33m         \u001b[1;32mraise\u001b[0m \u001b[0mInvalidSignature\u001b[0m\u001b[1;33m\u001b[0m\u001b[1;33m\u001b[0m\u001b[0m\n\u001b[0m\u001b[0;32m    107\u001b[0m \u001b[1;33m\u001b[0m\u001b[0m\n\u001b[0;32m    108\u001b[0m \u001b[1;33m\u001b[0m\u001b[0m\n",
      "\u001b[1;31mInvalidSignature\u001b[0m: "
     ]
    }
   ],
   "source": [
    "# Test 5\n",
    "# verifying the validity for new signature\n",
    "amount = 50\n",
    "fee = 1\n",
    "nonce = 5\n",
    "sender_balance = 100\n",
    "\n",
    "# generate two private keys\n",
    "private_key_A = ec.generate_private_key(ec.SECP256K1)\n",
    "private_key_B = ec.generate_private_key(ec.SECP256K1)\n",
    "\n",
    "# generate transactions\n",
    "create_tx_A = Transaction.create_signed_transaction(sender_private_key = private_key_A,recipient_hash = recipient_hash,amount= amount,fee= fee,nonce = nonce)\n",
    "create_tx_B = Transaction.create_signed_transaction(sender_private_key = private_key_B,recipient_hash= recipient_hash,amount = amount,fee = fee,nonce = nonce)\n",
    "\n",
    "# verify transactions\n",
    "create_tx_A.verify(sender_balance, sender_previous_nonce=create_tx_A.nonce-1)\n",
    "create_tx_B.verify(sender_balance, sender_previous_nonce=create_tx_B.nonce-1)\n",
    "\n",
    "# exchange transaction A to match B\n",
    "create_tx_A.signature = create_tx_B.signature\n",
    "create_tx_A.txid = create_tx_A.calculate_txid(sender_hash, recipient_hash, sender_public_key, amount, fee, nonce, signature)\n",
    "\n",
    "assert create_tx_A.verify(sender_balance=100, sender_previous_nonce=create_tx_A.nonce-1) == True"
   ]
  },
  {
   "cell_type": "code",
   "execution_count": 12,
   "id": "6abe1dca",
   "metadata": {
    "scrolled": true
   },
   "outputs": [],
   "source": [
    "# Test 6\n",
    "# verifing a transaction with specific sender banalnce = 20 and previous nonce = 4\n",
    "sender_hash = bytes.fromhex(\"3df8f04b3c159fdc6631c4b8b0874940344d173d\")\n",
    "recipient_hash = bytes.fromhex(\"5c1499a0484ace2f731b0afb83241e15f0e168ca\")\n",
    "sender_public_key = bytes.fromhex(\"3056301006072a8648ce3d020106052b8104000a\" +\n",
    "                         \"03420004886ed03cb7ffd4cbd95579ea2e202f1d\" +\n",
    "                         \"b29afc3bf5d7c2c34a34701bbb0685a7b535f1e6\" +\n",
    "                         \"31373afe8d1c860a9ac47d8e2659b74d437435b0\" +\n",
    "                         \"5f2c55bf3f033ac1\")\n",
    "amount = 10\n",
    "fee = 2\n",
    "nonce = 5\n",
    "signature = bytes.fromhex(\"3046022100f9c076a72a2341a1b8cb68520713e1\" +\n",
    "                          \"2f173378cf78cf79c7978a2337fbad141d022100\" +\n",
    "                          \"ec27704d4d604f839f99e62c02e65bf60cc93ae1\"\n",
    "                          \"735c1ccf29fd31bd3c5a40ed\")\n",
    "txid = bytes.fromhex(\"ca388e0890b71bd1775460d478f26af3776c9b4f\" +\n",
    "                  \"6c2b936e1e788c5c87657bc3\")\n",
    "\n",
    "tx = Transaction(\n",
    "    sender_hash,\n",
    "    recipient_hash,\n",
    "    sender_public_key,\n",
    "    amount,\n",
    "    fee,\n",
    "    nonce,\n",
    "    signature,\n",
    "    txid)\n",
    "\n",
    "sender_balance = 20\n",
    "sender_previous_nonce = nonce - 1\n",
    "\n",
    "assert tx.verify(sender_balance, sender_previous_nonce) == True"
   ]
  }
 ],
 "metadata": {
  "kernelspec": {
   "display_name": "Python 3 (ipykernel)",
   "language": "python",
   "name": "python3"
  },
  "language_info": {
   "codemirror_mode": {
    "name": "ipython",
    "version": 3
   },
   "file_extension": ".py",
   "mimetype": "text/x-python",
   "name": "python",
   "nbconvert_exporter": "python",
   "pygments_lexer": "ipython3",
   "version": "3.9.12"
  }
 },
 "nbformat": 4,
 "nbformat_minor": 5
}
